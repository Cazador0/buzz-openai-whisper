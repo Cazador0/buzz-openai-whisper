{
 "cells": [
  {
   "cell_type": "markdown",
   "metadata": {},
   "source": [
    "# Whisper Transcriber Example",
    "\n",
    "This notebook demonstrates how to transcribe audio using OpenAI's Whisper model."
   ]
  }
 ],
 "metadata": {},
 "nbformat": 4,
 "nbformat_minor": 5
}
